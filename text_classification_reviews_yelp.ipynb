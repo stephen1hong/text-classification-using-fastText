{
 "cells": [
  {
   "cell_type": "code",
   "execution_count": 1,
   "metadata": {},
   "outputs": [],
   "source": [
    "#document classification on user reviews at Yelp dataset"
   ]
  },
  {
   "cell_type": "code",
   "execution_count": 2,
   "metadata": {},
   "outputs": [],
   "source": [
    "import json"
   ]
  },
  {
   "cell_type": "code",
   "execution_count": 3,
   "metadata": {},
   "outputs": [],
   "source": [
    "from pathlib import Path"
   ]
  },
  {
   "cell_type": "code",
   "execution_count": 4,
   "metadata": {},
   "outputs": [],
   "source": [
    "import re\n",
    "import random"
   ]
  },
  {
   "cell_type": "code",
   "execution_count": 5,
   "metadata": {},
   "outputs": [],
   "source": [
    "reviews_data =Path(\"/home/sephen/NLP/datasets/yelp\")/\"review.json\""
   ]
  },
  {
   "cell_type": "code",
   "execution_count": 6,
   "metadata": {},
   "outputs": [],
   "source": [
    "#fasttext_data = Path(\"fasttext_dataset.txt\")"
   ]
  },
  {
   "cell_type": "code",
   "execution_count": 7,
   "metadata": {},
   "outputs": [],
   "source": [
    "training_data = Path(\"fasttext_dataset_training.txt\")\n",
    "test_data = Path(\"fasttext_dataset_test.txt\")"
   ]
  },
  {
   "cell_type": "code",
   "execution_count": 8,
   "metadata": {},
   "outputs": [],
   "source": [
    "percent_test_data = 0.10"
   ]
  },
  {
   "cell_type": "code",
   "execution_count": 9,
   "metadata": {},
   "outputs": [],
   "source": [
    "def strip_formatting(string):\n",
    "    string = string.lower()\n",
    "    string = re.sub(r\"([.!?,'/()])\", r\" \\1 \", string)\n",
    "    return string"
   ]
  },
  {
   "cell_type": "code",
   "execution_count": null,
   "metadata": {},
   "outputs": [],
   "source": [
    "#profduce training and testing data"
   ]
  },
  {
   "cell_type": "code",
   "execution_count": 10,
   "metadata": {},
   "outputs": [],
   "source": [
    "with reviews_data.open() as input, \\\n",
    "     training_data.open(\"w\") as train_output, \\\n",
    "     test_data.open(\"w\") as test_output:\n",
    "\n",
    "    for line in input:\n",
    "        review_data = json.loads(line)\n",
    "\n",
    "        rating = review_data['stars']\n",
    "        text = review_data['text'].replace(\"\\n\", \" \")\n",
    "        text = strip_formatting(text)\n",
    "\n",
    "        fasttext_line = \"__label__{} {}\".format(rating, text)\n",
    "\n",
    "        if random.random() <= percent_test_data:\n",
    "            test_output.write(fasttext_line + \"\\n\")\n",
    "        else:\n",
    "            train_output.write(fasttext_line + \"\\n\")"
   ]
  },
  {
   "cell_type": "code",
   "execution_count": 17,
   "metadata": {},
   "outputs": [
    {
     "name": "stdout",
     "output_type": "stream",
     "text": [
      "/home/sephen/NLP/fastText\n"
     ]
    }
   ],
   "source": [
    "cd /home/sephen/NLP/fastText"
   ]
  },
  {
   "cell_type": "code",
   "execution_count": 18,
   "metadata": {},
   "outputs": [
    {
     "name": "stdout",
     "output_type": "stream",
     "text": [
      "Read 797M words\n",
      "Number of words:  1336575\n",
      "Number of labels: 5\n",
      "Progress: 100.0% words/sec/thread: 2730842 lr:  0.000000 avg.loss:  0.766991 ETA:   0h 0m 0s\n"
     ]
    }
   ],
   "source": [
    "!./fasttext supervised -input fasttext_dataset_training.txt -output reviews_model"
   ]
  },
  {
   "cell_type": "code",
   "execution_count": 21,
   "metadata": {},
   "outputs": [
    {
     "name": "stdout",
     "output_type": "stream",
     "text": [
      "N\t668835\r\n",
      "P@1\t0.696\r\n",
      "R@1\t0.696\r\n"
     ]
    }
   ],
   "source": [
    " !./fasttext test reviews_model.bin fasttext_dataset_test.txt"
   ]
  },
  {
   "cell_type": "code",
   "execution_count": 22,
   "metadata": {},
   "outputs": [
    {
     "name": "stdout",
     "output_type": "stream",
     "text": [
      "Read 797M words\n",
      "Number of words:  1336575\n",
      "Number of labels: 5\n",
      "Progress: 100.0% words/sec/thread: 1193520 lr:  0.000000 avg.loss:  0.668070 ETA:   0h 0m 0s 0.043595 avg.loss:  0.693550 ETA:   0h 2m 0s  0h 1m 8s\n"
     ]
    }
   ],
   "source": [
    "!./fasttext supervised -input fasttext_dataset_training.txt -output reviews_model_ngrams -wordNgrams 2"
   ]
  },
  {
   "cell_type": "code",
   "execution_count": 23,
   "metadata": {},
   "outputs": [
    {
     "name": "stdout",
     "output_type": "stream",
     "text": [
      "N\t668835\r\n",
      "P@1\t0.73\r\n",
      "R@1\t0.73\r\n"
     ]
    }
   ],
   "source": [
    "!./fasttext test reviews_model_ngrams.bin fasttext_dataset_test.txt"
   ]
  },
  {
   "cell_type": "code",
   "execution_count": null,
   "metadata": {},
   "outputs": [],
   "source": []
  }
 ],
 "metadata": {
  "kernelspec": {
   "display_name": "Python 3",
   "language": "python",
   "name": "python3"
  },
  "language_info": {
   "codemirror_mode": {
    "name": "ipython",
    "version": 3
   },
   "file_extension": ".py",
   "mimetype": "text/x-python",
   "name": "python",
   "nbconvert_exporter": "python",
   "pygments_lexer": "ipython3",
   "version": "3.5.2"
  }
 },
 "nbformat": 4,
 "nbformat_minor": 2
}
